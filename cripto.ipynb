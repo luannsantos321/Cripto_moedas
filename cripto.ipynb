{
 "cells": [
  {
   "cell_type": "code",
   "execution_count": null,
   "metadata": {},
   "outputs": [],
   "source": [
    "from bs4 import BeautifulSoup\n",
    "import requests\n",
    "from time import sleep\n",
    "while True:\n",
    "    sleep(3)\n",
    "    link = \"https://coinmarketcap.com/\"\n",
    "    requisicao = requests.get(link)\n",
    "    soup = BeautifulSoup(requisicao.text, 'html.parser')\n",
    "    tbody = soup.find('table')\n",
    "    linhas = tbody.find_all('tr')\n",
    "    texto = []\n",
    "    for linha in linhas:\n",
    "        valores = linha.find_all('td')\n",
    "        for valor in valores:\n",
    "            if valor.text != '':\n",
    "                texto.append(valor.text)\n",
    "\n",
    "                BitcoinBTC = texto[1:3]\n",
    "                EthereumETH = texto[10:12]\n",
    "                Tether = texto[19:21]\n",
    "                BNBBNB = texto[28:30]\n",
    "    print(BitcoinBTC,EthereumETH,Tether,BNBBNB)"
   ]
  }
 ],
 "metadata": {
  "kernelspec": {
   "display_name": "venv",
   "language": "python",
   "name": "python3"
  },
  "language_info": {
   "codemirror_mode": {
    "name": "ipython",
    "version": 3
   },
   "file_extension": ".py",
   "mimetype": "text/x-python",
   "name": "python",
   "nbconvert_exporter": "python",
   "pygments_lexer": "ipython3",
   "version": "3.11.4"
  },
  "orig_nbformat": 4
 },
 "nbformat": 4,
 "nbformat_minor": 2
}
